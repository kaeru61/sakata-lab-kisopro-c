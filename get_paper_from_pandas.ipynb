{
 "cells": [
  {
   "cell_type": "code",
   "execution_count": 1,
   "id": "e35074ab-759b-422e-9330-effa1099bccb",
   "metadata": {},
   "outputs": [],
   "source": [
    "import pandas as pd"
   ]
  },
  {
   "cell_type": "markdown",
   "id": "7f9557f3-ed0e-48e3-870d-925c4b10bd67",
   "metadata": {},
   "source": [
    "# 全データへアクセスして必要なカラムのみを取得する。\n",
    "\n",
    "データが重いです。\n",
    "またtext_embedding_256はelasticsearchのみから取得できます。"
   ]
  },
  {
   "cell_type": "code",
   "execution_count": 2,
   "id": "8417379f-71d6-4303-8391-73500dd863a1",
   "metadata": {},
   "outputs": [
    {
     "name": "stdout",
     "output_type": "stream",
     "text": [
      "261381162\n"
     ]
    },
    {
     "data": {
      "text/html": [
       "<div>\n",
       "<style scoped>\n",
       "    .dataframe tbody tr th:only-of-type {\n",
       "        vertical-align: middle;\n",
       "    }\n",
       "\n",
       "    .dataframe tbody tr th {\n",
       "        vertical-align: top;\n",
       "    }\n",
       "\n",
       "    .dataframe thead th {\n",
       "        text-align: right;\n",
       "    }\n",
       "</style>\n",
       "<table border=\"1\" class=\"dataframe\">\n",
       "  <thead>\n",
       "    <tr style=\"text-align: right;\">\n",
       "      <th></th>\n",
       "      <th>doi</th>\n",
       "      <th>publication_year</th>\n",
       "    </tr>\n",
       "    <tr>\n",
       "      <th>id</th>\n",
       "      <th></th>\n",
       "      <th></th>\n",
       "    </tr>\n",
       "  </thead>\n",
       "  <tbody>\n",
       "    <tr>\n",
       "      <th>2963229057</th>\n",
       "      <td>https://doi.org/10.1515/advgeom-2017-0040</td>\n",
       "      <td>2018</td>\n",
       "    </tr>\n",
       "    <tr>\n",
       "      <th>2911718404</th>\n",
       "      <td>https://doi.org/10.1163/9789004363380_004</td>\n",
       "      <td>2018</td>\n",
       "    </tr>\n",
       "    <tr>\n",
       "      <th>4230752303</th>\n",
       "      <td>https://doi.org/10.1111/j.1559-3584.1946.tb017...</td>\n",
       "      <td>1946</td>\n",
       "    </tr>\n",
       "    <tr>\n",
       "      <th>4231085508</th>\n",
       "      <td>https://doi.org/10.1016/s0305-7372(11)00045-4</td>\n",
       "      <td>2011</td>\n",
       "    </tr>\n",
       "    <tr>\n",
       "      <th>4244282399</th>\n",
       "      <td>https://doi.org/10.1111/hic3.12420</td>\n",
       "      <td>2018</td>\n",
       "    </tr>\n",
       "  </tbody>\n",
       "</table>\n",
       "</div>"
      ],
      "text/plain": [
       "                                                          doi  \\\n",
       "id                                                              \n",
       "2963229057          https://doi.org/10.1515/advgeom-2017-0040   \n",
       "2911718404          https://doi.org/10.1163/9789004363380_004   \n",
       "4230752303  https://doi.org/10.1111/j.1559-3584.1946.tb017...   \n",
       "4231085508      https://doi.org/10.1016/s0305-7372(11)00045-4   \n",
       "4244282399                 https://doi.org/10.1111/hic3.12420   \n",
       "\n",
       "            publication_year  \n",
       "id                            \n",
       "2963229057              2018  \n",
       "2911718404              2018  \n",
       "4230752303              1946  \n",
       "4231085508              2011  \n",
       "4244282399              2018  "
      ]
     },
     "execution_count": 2,
     "metadata": {},
     "output_type": "execute_result"
    }
   ],
   "source": [
    "papers = pd.concat([ pd.read_pickle('/disks/qnap3/shared/openalex-24/data/paper/doi.pickle'),\n",
    "                    pd.read_pickle('/disks/qnap3/shared/openalex-24/data/paper/publication_year.pickle')],axis=1)\n",
    "print(len(papers))\n",
    "papers.head()"
   ]
  },
  {
   "cell_type": "code",
   "execution_count": null,
   "id": "222f03e8-90d0-4938-b11d-5ec46104ced4",
   "metadata": {},
   "outputs": [],
   "source": []
  },
  {
   "cell_type": "code",
   "execution_count": null,
   "id": "7b3d9772-97fa-419c-bdc5-e64d66b779fc",
   "metadata": {},
   "outputs": [],
   "source": []
  }
 ],
 "metadata": {
  "kernelspec": {
   "display_name": "Python 3 (ipykernel)",
   "language": "python",
   "name": "python3"
  },
  "language_info": {
   "codemirror_mode": {
    "name": "ipython",
    "version": 3
   },
   "file_extension": ".py",
   "mimetype": "text/x-python",
   "name": "python",
   "nbconvert_exporter": "python",
   "pygments_lexer": "ipython3",
   "version": "3.12.10"
  }
 },
 "nbformat": 4,
 "nbformat_minor": 5
}
