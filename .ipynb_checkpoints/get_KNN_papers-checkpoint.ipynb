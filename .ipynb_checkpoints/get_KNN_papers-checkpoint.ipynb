{
 "cells": [
  {
   "cell_type": "code",
   "execution_count": 2,
   "id": "74b7a543-27d4-45a8-8360-273d04edecfc",
   "metadata": {
    "scrolled": true
   },
   "outputs": [],
   "source": [
    "import numpy as np\n",
    "import glob\n",
    "import os\n",
    "import torch\n",
    "import faiss\n",
    "import os, pandas as pd, time, random\n",
    "import tiktoken\n",
    "from openai import OpenAI\n",
    "from concurrent.futures import ThreadPoolExecutor\n",
    "from langchain.prompts import PromptTemplate\n",
    "from langchain.chains import LLMChain\n",
    "from langchain_openai import ChatOpenAI\n",
    "from elasticsearch import Elasticsearch\n"
   ]
  },
  {
   "cell_type": "markdown",
   "id": "0c53c7eb-91de-4459-892b-f203182bf85c",
   "metadata": {
    "execution": {
     "iopub.execute_input": "2025-04-24T01:50:52.714379Z",
     "iopub.status.busy": "2025-04-24T01:50:52.714140Z",
     "iopub.status.idle": "2025-04-24T01:50:52.716389Z",
     "shell.execute_reply": "2025-04-24T01:50:52.716136Z",
     "shell.execute_reply.started": "2025-04-24T01:50:52.714367Z"
    }
   },
   "source": [
    "#  読み込みと設定"
   ]
  },
  {
   "cell_type": "code",
   "execution_count": 3,
   "id": "eef4759d-1fd0-408d-937a-a712f9f376cf",
   "metadata": {},
   "outputs": [
    {
     "name": "stderr",
     "output_type": "stream",
     "text": [
      "/tmp/ipykernel_143/3614551544.py:17: DeprecationWarning: The 'timeout' parameter is deprecated in favor of 'request_timeout'\n",
      "  es = Elasticsearch(\n"
     ]
    }
   ],
   "source": [
    "vector_ids = np.load(\"/disks/qnap3/shared/openalex-24/data/KNN/all_ids.npy\")\n",
    "index = faiss.read_index(\"/disks/qnap3/shared/openalex-24/data/KNN/all.faiss\")\n",
    "index.nprobe = 5\n",
    "\n",
    "def search_and_get_ids(query_vector, k=300):\n",
    "    query_vector = np.asarray(query_vector, dtype='float32')\n",
    "    if query_vector.ndim == 1:\n",
    "        query_vector = query_vector[None, :]   # または query_vector.reshape(1, -1)\n",
    "    D, I = index.search(query_vector, k)\n",
    "    result_ids = [vector_ids[idx] for idx in I[0] if idx != -1]\n",
    "    res = list(D[0]), list(result_ids)\n",
    "    res = pd.DataFrame(res).T\n",
    "    res.columns = ['score','id']\n",
    "    res['id'] = res['id'].apply(int)\n",
    "    return res\n",
    "\n",
    "es = Elasticsearch(\n",
    "    \"http://133.11.72.200:9200/\",\n",
    "    # ca_certs=\"./ti06.crt\",\n",
    "    timeout=500,\n",
    "    basic_auth=('oa_reader', 'five@godtruth')\n",
    ")"
   ]
  },
  {
   "cell_type": "markdown",
   "id": "35e9970d-c494-4556-b04a-e3cefd24c8ad",
   "metadata": {
    "execution": {
     "iopub.execute_input": "2025-04-24T01:50:52.714379Z",
     "iopub.status.busy": "2025-04-24T01:50:52.714140Z",
     "iopub.status.idle": "2025-04-24T01:50:52.716389Z",
     "shell.execute_reply": "2025-04-24T01:50:52.716136Z",
     "shell.execute_reply.started": "2025-04-24T01:50:52.714367Z"
    }
   },
   "source": [
    "#  任意の論文IDから近い論文IDを検索"
   ]
  },
  {
   "cell_type": "code",
   "execution_count": 4,
   "id": "79967a31-0d4f-4cef-bfff-3f306e88577c",
   "metadata": {},
   "outputs": [
    {
     "name": "stderr",
     "output_type": "stream",
     "text": [
      "/tmp/ipykernel_143/357058807.py:3: DeprecationWarning: The 'timeout' parameter is deprecated in favor of 'request_timeout'\n",
      "  es = Elasticsearch(\n"
     ]
    },
    {
     "data": {
      "text/html": [
       "<div>\n",
       "<style scoped>\n",
       "    .dataframe tbody tr th:only-of-type {\n",
       "        vertical-align: middle;\n",
       "    }\n",
       "\n",
       "    .dataframe tbody tr th {\n",
       "        vertical-align: top;\n",
       "    }\n",
       "\n",
       "    .dataframe thead th {\n",
       "        text-align: right;\n",
       "    }\n",
       "</style>\n",
       "<table border=\"1\" class=\"dataframe\">\n",
       "  <thead>\n",
       "    <tr style=\"text-align: right;\">\n",
       "      <th></th>\n",
       "      <th>score</th>\n",
       "      <th>id</th>\n",
       "    </tr>\n",
       "  </thead>\n",
       "  <tbody>\n",
       "    <tr>\n",
       "      <th>0</th>\n",
       "      <td>0.986877</td>\n",
       "      <td>3134007932</td>\n",
       "    </tr>\n",
       "    <tr>\n",
       "      <th>1</th>\n",
       "      <td>0.880838</td>\n",
       "      <td>4248341347</td>\n",
       "    </tr>\n",
       "    <tr>\n",
       "      <th>2</th>\n",
       "      <td>0.831558</td>\n",
       "      <td>4398217026</td>\n",
       "    </tr>\n",
       "    <tr>\n",
       "      <th>3</th>\n",
       "      <td>0.822026</td>\n",
       "      <td>4386961494</td>\n",
       "    </tr>\n",
       "    <tr>\n",
       "      <th>4</th>\n",
       "      <td>0.819856</td>\n",
       "      <td>4391448611</td>\n",
       "    </tr>\n",
       "    <tr>\n",
       "      <th>...</th>\n",
       "      <td>...</td>\n",
       "      <td>...</td>\n",
       "    </tr>\n",
       "    <tr>\n",
       "      <th>295</th>\n",
       "      <td>0.730429</td>\n",
       "      <td>3013793046</td>\n",
       "    </tr>\n",
       "    <tr>\n",
       "      <th>296</th>\n",
       "      <td>0.729953</td>\n",
       "      <td>4390137167</td>\n",
       "    </tr>\n",
       "    <tr>\n",
       "      <th>297</th>\n",
       "      <td>0.729904</td>\n",
       "      <td>2530840575</td>\n",
       "    </tr>\n",
       "    <tr>\n",
       "      <th>298</th>\n",
       "      <td>0.729584</td>\n",
       "      <td>2900977896</td>\n",
       "    </tr>\n",
       "    <tr>\n",
       "      <th>299</th>\n",
       "      <td>0.729386</td>\n",
       "      <td>2352592366</td>\n",
       "    </tr>\n",
       "  </tbody>\n",
       "</table>\n",
       "<p>300 rows × 2 columns</p>\n",
       "</div>"
      ],
      "text/plain": [
       "        score          id\n",
       "0    0.986877  3134007932\n",
       "1    0.880838  4248341347\n",
       "2    0.831558  4398217026\n",
       "3    0.822026  4386961494\n",
       "4    0.819856  4391448611\n",
       "..        ...         ...\n",
       "295  0.730429  3013793046\n",
       "296  0.729953  4390137167\n",
       "297  0.729904  2530840575\n",
       "298  0.729584  2900977896\n",
       "299  0.729386  2352592366\n",
       "\n",
       "[300 rows x 2 columns]"
      ]
     },
     "execution_count": 4,
     "metadata": {},
     "output_type": "execute_result"
    }
   ],
   "source": [
    "# setting\n",
    "\n",
    "es = Elasticsearch(\n",
    "    \"http://133.11.72.200:9200/\",\n",
    "    # ca_certs=\"./ti06.crt\",\n",
    "    timeout=500,\n",
    "    basic_auth=('oa_reader', 'five@godtruth')\n",
    ")\n",
    "\n",
    "def get_documents_by_ids(es, index_name, doc_ids):\n",
    "    # Use the mget API to retrieve multiple documents by IDs\n",
    "    response = es.mget(\n",
    "        index=index_name,\n",
    "        body={\"ids\": doc_ids}\n",
    "    )\n",
    "    \n",
    "    # Process and return the results\n",
    "    results = []\n",
    "    for doc in response['docs']:\n",
    "        if doc.get('found', False):\n",
    "            results.append(doc['_source'])\n",
    "        else:\n",
    "            print(f\"Document with ID {doc['_id']} not found\")\n",
    "    \n",
    "    return pd.DataFrame(results)\n",
    "    \n",
    "\n",
    "# get text embedding of the paper\n",
    "paper_id = 3134007932\n",
    "paper_data = get_documents_by_ids(es,'oa_papers',[paper_id])\n",
    "emb = paper_data.iloc[0].text_embedding_256\n",
    "\n",
    "# retrieve the KNN\n",
    "res = search_and_get_ids(emb, 300)\n",
    "res"
   ]
  },
  {
   "cell_type": "code",
   "execution_count": 5,
   "id": "c41f5898-c9e5-46f7-8c3a-7aa981328b84",
   "metadata": {},
   "outputs": [],
   "source": [
    "# you can access the paper data using following url\n",
    "# https://openalex.org/works/W{id}\n",
    "# e.g. https://openalex.org/works/W{3134007932}"
   ]
  },
  {
   "cell_type": "markdown",
   "id": "387fec67-36e5-4703-878a-7ed1ccf33516",
   "metadata": {
    "execution": {
     "iopub.execute_input": "2025-04-24T01:50:52.714379Z",
     "iopub.status.busy": "2025-04-24T01:50:52.714140Z",
     "iopub.status.idle": "2025-04-24T01:50:52.716389Z",
     "shell.execute_reply": "2025-04-24T01:50:52.716136Z",
     "shell.execute_reply.started": "2025-04-24T01:50:52.714367Z"
    }
   },
   "source": [
    "#  任意のテキストから近い論文IDを検索\n"
   ]
  },
  {
   "cell_type": "code",
   "execution_count": 7,
   "id": "7db2fc2e-abfb-465c-83a2-d2614a6bc026",
   "metadata": {},
   "outputs": [
    {
     "name": "stdout",
     "output_type": "stream",
     "text": [
      "\n"
     ]
    },
    {
     "ename": "IndexError",
     "evalue": "single positional indexer is out-of-bounds",
     "output_type": "error",
     "traceback": [
      "\u001b[31m---------------------------------------------------------------------------\u001b[39m",
      "\u001b[31mIndexError\u001b[39m                                Traceback (most recent call last)",
      "\u001b[36mCell\u001b[39m\u001b[36m \u001b[39m\u001b[32mIn[7]\u001b[39m\u001b[32m, line 29\u001b[39m\n\u001b[32m     27\u001b[39m text = \u001b[33m\"\"\"\u001b[39m\u001b[33mquantum computing\u001b[39m\u001b[33m\"\"\"\u001b[39m\n\u001b[32m     28\u001b[39m \u001b[38;5;66;03m# get embedding using openAI api. dimensions should be 256 \u001b[39;00m\n\u001b[32m---> \u001b[39m\u001b[32m29\u001b[39m embs = \u001b[43mget_embeddings\u001b[49m\u001b[43m(\u001b[49m\u001b[43mclient\u001b[49m\u001b[43m,\u001b[49m\u001b[43menc\u001b[49m\u001b[43m,\u001b[49m\u001b[43m[\u001b[49m\u001b[43mtext\u001b[49m\u001b[43m]\u001b[49m\u001b[43m,\u001b[49m\u001b[43mdimensions\u001b[49m\u001b[43m=\u001b[49m\u001b[32;43m256\u001b[39;49m\u001b[43m)\u001b[49m\u001b[43m.\u001b[49m\u001b[43miloc\u001b[49m\u001b[43m[\u001b[49m\u001b[32;43m0\u001b[39;49m\u001b[43m]\u001b[49m\n\u001b[32m     31\u001b[39m \u001b[38;5;66;03m# KNN search\u001b[39;00m\n\u001b[32m     32\u001b[39m res = search_and_get_ids(embs, \u001b[32m300\u001b[39m)\n",
      "\u001b[36mFile \u001b[39m\u001b[32m/usr/local/lib/python3.12/site-packages/pandas/core/indexing.py:1191\u001b[39m, in \u001b[36m_LocationIndexer.__getitem__\u001b[39m\u001b[34m(self, key)\u001b[39m\n\u001b[32m   1189\u001b[39m maybe_callable = com.apply_if_callable(key, \u001b[38;5;28mself\u001b[39m.obj)\n\u001b[32m   1190\u001b[39m maybe_callable = \u001b[38;5;28mself\u001b[39m._check_deprecated_callable_usage(key, maybe_callable)\n\u001b[32m-> \u001b[39m\u001b[32m1191\u001b[39m \u001b[38;5;28;01mreturn\u001b[39;00m \u001b[38;5;28;43mself\u001b[39;49m\u001b[43m.\u001b[49m\u001b[43m_getitem_axis\u001b[49m\u001b[43m(\u001b[49m\u001b[43mmaybe_callable\u001b[49m\u001b[43m,\u001b[49m\u001b[43m \u001b[49m\u001b[43maxis\u001b[49m\u001b[43m=\u001b[49m\u001b[43maxis\u001b[49m\u001b[43m)\u001b[49m\n",
      "\u001b[36mFile \u001b[39m\u001b[32m/usr/local/lib/python3.12/site-packages/pandas/core/indexing.py:1752\u001b[39m, in \u001b[36m_iLocIndexer._getitem_axis\u001b[39m\u001b[34m(self, key, axis)\u001b[39m\n\u001b[32m   1749\u001b[39m     \u001b[38;5;28;01mraise\u001b[39;00m \u001b[38;5;167;01mTypeError\u001b[39;00m(\u001b[33m\"\u001b[39m\u001b[33mCannot index by location index with a non-integer key\u001b[39m\u001b[33m\"\u001b[39m)\n\u001b[32m   1751\u001b[39m \u001b[38;5;66;03m# validate the location\u001b[39;00m\n\u001b[32m-> \u001b[39m\u001b[32m1752\u001b[39m \u001b[38;5;28;43mself\u001b[39;49m\u001b[43m.\u001b[49m\u001b[43m_validate_integer\u001b[49m\u001b[43m(\u001b[49m\u001b[43mkey\u001b[49m\u001b[43m,\u001b[49m\u001b[43m \u001b[49m\u001b[43maxis\u001b[49m\u001b[43m)\u001b[49m\n\u001b[32m   1754\u001b[39m \u001b[38;5;28;01mreturn\u001b[39;00m \u001b[38;5;28mself\u001b[39m.obj._ixs(key, axis=axis)\n",
      "\u001b[36mFile \u001b[39m\u001b[32m/usr/local/lib/python3.12/site-packages/pandas/core/indexing.py:1685\u001b[39m, in \u001b[36m_iLocIndexer._validate_integer\u001b[39m\u001b[34m(self, key, axis)\u001b[39m\n\u001b[32m   1683\u001b[39m len_axis = \u001b[38;5;28mlen\u001b[39m(\u001b[38;5;28mself\u001b[39m.obj._get_axis(axis))\n\u001b[32m   1684\u001b[39m \u001b[38;5;28;01mif\u001b[39;00m key >= len_axis \u001b[38;5;129;01mor\u001b[39;00m key < -len_axis:\n\u001b[32m-> \u001b[39m\u001b[32m1685\u001b[39m     \u001b[38;5;28;01mraise\u001b[39;00m \u001b[38;5;167;01mIndexError\u001b[39;00m(\u001b[33m\"\u001b[39m\u001b[33msingle positional indexer is out-of-bounds\u001b[39m\u001b[33m\"\u001b[39m)\n",
      "\u001b[31mIndexError\u001b[39m: single positional indexer is out-of-bounds"
     ]
    }
   ],
   "source": [
    "# setting \n",
    "os.environ[\"OPENAI_API_KEY\"] = \"YOURKEY\"\n",
    "client = OpenAI()\n",
    "enc = tiktoken.encoding_for_model(\"text-embedding-3-small\")\n",
    "\n",
    "def get_embeddings(client, enc, texts, model=\"text-embedding-3-small\", dimensions=None):\n",
    "    df = pd.Series(texts)\n",
    "    df_ = df.dropna()\n",
    "    df_ = df_[df_.apply(len) > 0]\n",
    "    df = df_[df_.apply(enc.encode).apply(len) < 8000]\n",
    "    texts = list(df_)\n",
    "    texts = [text.replace(\"\\n\", \" \") for text in texts]\n",
    "    try:\n",
    "        if dimensions:\n",
    "            res = client.embeddings.create(input=texts, model=model, dimensions=dimensions)\n",
    "        else:\n",
    "            res = client.embeddings.create(input=texts, model=model)\n",
    "        emb = [x.embedding for x in res.data]\n",
    "        df = pd.DataFrame(np.stack(emb))\n",
    "        df.index = df_.index\n",
    "        return df\n",
    "    except Exception as e:\n",
    "        print()\n",
    "    return pd.Series()\n",
    "\n",
    "# your text\n",
    "text = \"\"\"quantum computing\"\"\"\n",
    "# get embedding using openAI api. dimensions should be 256 \n",
    "embs = get_embeddings(client,enc,[text],dimensions=256).iloc[0]\n",
    "\n",
    "# KNN search\n",
    "res = search_and_get_ids(embs, 300)\n",
    "res"
   ]
  },
  {
   "cell_type": "code",
   "execution_count": 160,
   "id": "ffa76e62-9698-441d-9542-ce8c0d856a34",
   "metadata": {
    "execution": {
     "iopub.execute_input": "2025-04-23T02:29:22.024578Z",
     "iopub.status.busy": "2025-04-23T02:29:22.024425Z",
     "iopub.status.idle": "2025-04-23T02:29:22.033970Z",
     "shell.execute_reply": "2025-04-23T02:29:22.033738Z",
     "shell.execute_reply.started": "2025-04-23T02:29:22.024568Z"
    }
   },
   "outputs": [],
   "source": []
  },
  {
   "cell_type": "code",
   "execution_count": null,
   "id": "7ac076de-47c0-438d-98b2-db5efa953bea",
   "metadata": {},
   "outputs": [],
   "source": []
  },
  {
   "cell_type": "code",
   "execution_count": null,
   "id": "00151451-48a0-47dc-97d6-7a6c90fe57e7",
   "metadata": {},
   "outputs": [],
   "source": []
  },
  {
   "cell_type": "code",
   "execution_count": null,
   "id": "783373e6-5dc3-4699-b4a3-9bdf1fccc4c5",
   "metadata": {},
   "outputs": [],
   "source": []
  },
  {
   "cell_type": "code",
   "execution_count": null,
   "id": "18dab968-24ba-4a66-8f1a-a90f2f9b3ba6",
   "metadata": {},
   "outputs": [],
   "source": []
  }
 ],
 "metadata": {
  "kernelspec": {
   "display_name": "Python 3 (ipykernel)",
   "language": "python",
   "name": "python3"
  },
  "language_info": {
   "codemirror_mode": {
    "name": "ipython",
    "version": 3
   },
   "file_extension": ".py",
   "mimetype": "text/x-python",
   "name": "python",
   "nbconvert_exporter": "python",
   "pygments_lexer": "ipython3",
   "version": "3.12.10"
  }
 },
 "nbformat": 4,
 "nbformat_minor": 5
}
